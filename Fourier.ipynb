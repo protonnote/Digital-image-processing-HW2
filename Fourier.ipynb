{
 "cells": [
  {
   "cell_type": "markdown",
   "metadata": {},
   "source": [
    "#1.1"
   ]
  },
  {
   "cell_type": "code",
   "execution_count": 1,
   "metadata": {},
   "outputs": [],
   "source": [
    "import numpy as np\n",
    "import cmath\n",
    "import math"
   ]
  },
  {
   "cell_type": "code",
   "execution_count": 2,
   "metadata": {},
   "outputs": [],
   "source": [
    "def read_pgm(pgmf):\n",
    "    rs = pgmf.readline()\n",
    "    rd = pgmf.readline()\n",
    "    if str(rd).find('#') != -1 :\n",
    "        rd = pgmf.readline()\n",
    "    (width, height) = [int(i) for i in rd.split()]\n",
    "\n",
    "    raster = []\n",
    "    for y in range(height):\n",
    "        row = []\n",
    "        for x in range(width):\n",
    "            row.append(ord(pgmf.read(1)))\n",
    "        raster.append(row)\n",
    "    return raster"
   ]
  },
  {
   "cell_type": "code",
   "execution_count": 3,
   "metadata": {},
   "outputs": [],
   "source": [
    "def writePGM(file, w, h, max_grayscale, flatImg):\n",
    "    file.write('P5\\n'.encode())\n",
    "    file.write('{} {}\\n'.format(w, h).encode())\n",
    "    file.write('{}\\n'.format(max_grayscale).encode())\n",
    "    file.write(bytearray(flatImg))\n",
    "    file.close()"
   ]
  },
  {
   "cell_type": "code",
   "execution_count": 4,
   "metadata": {},
   "outputs": [],
   "source": [
    "def padding_center(img, pad):\n",
    "    pading = [255]*(pad//2)\n",
    "    l = len(img[0])\n",
    "    for row in img :\n",
    "        for zero in pading :\n",
    "            row.insert(0, zero)\n",
    "        row.extend(pading)\n",
    "    pading = [[255]*(l + 2 * (pad//2)) for _ in range(pad//2)]\n",
    "    for row in pading:\n",
    "        img.insert(0, row)\n",
    "    img.extend(pading)"
   ]
  },
  {
   "cell_type": "code",
   "execution_count": 5,
   "metadata": {},
   "outputs": [],
   "source": [
    "def normal(img):\n",
    "    copy_img = np.array(img.copy())\n",
    "    log = (255/np.log(255))\n",
    "    w,h = copy_img.shape\n",
    "    normal_pic = [[int(log * np.log(1+(255/np.max(copy_img)*img[a][b]))) for a in range(w) ] for b in range(h)]\n",
    "    return w, h, normal_pic"
   ]
  },
  {
   "cell_type": "code",
   "execution_count": 7,
   "metadata": {},
   "outputs": [],
   "source": [
    "def convert(img):\n",
    "    ampli = []\n",
    "    pha = []\n",
    "    for inn in img:\n",
    "        row_a = []\n",
    "        row_p = []\n",
    "        for j in inn:\n",
    "            a = np.abs(j)\n",
    "            b = np.angle(j)\n",
    "            row_a.append(a)\n",
    "            row_p.append(b)\n",
    "        ampli.append(row_a)\n",
    "        pha.append(row_p)\n",
    "    return ampli,pha"
   ]
  },
  {
   "cell_type": "code",
   "execution_count": 8,
   "metadata": {},
   "outputs": [],
   "source": [
    "def contrast_s(li):\n",
    "    result = []\n",
    "    c = np.amin(li)\n",
    "    d = np.amax(li)\n",
    "    a = 0\n",
    "    b = 255\n",
    "    for i in range(len(li)):\n",
    "        row = []\n",
    "        for j in range(len(li[0])):\n",
    "            p = li[i][j]\n",
    "            p_out = (p - c)*((b - a)/(d - c)) + a\n",
    "            row.append(int(p_out))\n",
    "        result.append(row)\n",
    "    return result"
   ]
  },
  {
   "cell_type": "code",
   "execution_count": 9,
   "metadata": {},
   "outputs": [],
   "source": [
    "def flatten(arr):\n",
    "    return sum(arr, [])"
   ]
  },
  {
   "cell_type": "code",
   "execution_count": 10,
   "metadata": {},
   "outputs": [],
   "source": [
    "a = open(\".\\Picture\\Cross.pgm\",'rb')\n",
    "img = read_pgm(a)\n",
    "a.close()"
   ]
  },
  {
   "cell_type": "markdown",
   "metadata": {},
   "source": [
    "padding"
   ]
  },
  {
   "cell_type": "code",
   "execution_count": 11,
   "metadata": {},
   "outputs": [
    {
     "name": "stdout",
     "output_type": "stream",
     "text": [
      "256 256\n"
     ]
    }
   ],
   "source": [
    "padding_center(img,56)\n",
    "img[28][28] = 255\n",
    "img[28][29] = 255\n",
    "img[28][30] = 255\n",
    "img[28][31] = 255\n",
    "x,y = len(img),len(img[0])\n",
    "print(x,y)"
   ]
  },
  {
   "cell_type": "code",
   "execution_count": 12,
   "metadata": {},
   "outputs": [],
   "source": [
    "invert = [[255 if i == 0 else 0 for i in row ] for row in img ]"
   ]
  },
  {
   "cell_type": "markdown",
   "metadata": {},
   "source": [
    "FFT"
   ]
  },
  {
   "cell_type": "code",
   "execution_count": 17,
   "metadata": {},
   "outputs": [],
   "source": [
    "raw_img = np.fft.fftshift(np.fft.fft2(invert))"
   ]
  },
  {
   "cell_type": "markdown",
   "metadata": {},
   "source": [
    "patr convert"
   ]
  },
  {
   "cell_type": "code",
   "execution_count": 28,
   "metadata": {},
   "outputs": [],
   "source": [
    "amplitude, phase  = convert(raw_img)"
   ]
  },
  {
   "cell_type": "code",
   "execution_count": 185,
   "metadata": {},
   "outputs": [],
   "source": [
    "phase_out = contrast_s(phase)"
   ]
  },
  {
   "cell_type": "code",
   "execution_count": 32,
   "metadata": {},
   "outputs": [],
   "source": [
    "w , h , picture = normal(amplitude)"
   ]
  },
  {
   "cell_type": "markdown",
   "metadata": {},
   "source": [
    "part save image"
   ]
  },
  {
   "cell_type": "code",
   "execution_count": 64,
   "metadata": {},
   "outputs": [],
   "source": [
    "save_dir = open(\"./Picture/result_amp.pgm\",\"wb\")\n",
    "writePGM(save_dir , w , h , 255 , flatten(picture))"
   ]
  },
  {
   "cell_type": "code",
   "execution_count": 19,
   "metadata": {},
   "outputs": [],
   "source": [
    "save_dir = open(\"./Picture/result_phase.pgm\",\"wb\")\n",
    "writePGM(save_dir , len(phase_out[0]) , len(phase_out) , 255 , flatten(phase_out))"
   ]
  },
  {
   "cell_type": "code",
   "execution_count": 44,
   "metadata": {},
   "outputs": [],
   "source": [
    "save_dir = open(\"./Picture/test_plus.pgm\",\"wb\")\n",
    "writePGM(save_dir , len(img[0]) , len(img) , 255 , flatten(img))"
   ]
  },
  {
   "cell_type": "markdown",
   "metadata": {},
   "source": [
    "#1.2"
   ]
  },
  {
   "cell_type": "code",
   "execution_count": 51,
   "metadata": {},
   "outputs": [],
   "source": [
    "def shift(input_img , x ,y):\n",
    "    return [[input_img[i][j] * np.exp(-2j*np.pi*((x*j/w)+(y*i/h))) for j in range(len(input_img[0])) ] for i in range(len(input_img)) ]"
   ]
  },
  {
   "cell_type": "code",
   "execution_count": 52,
   "metadata": {},
   "outputs": [],
   "source": [
    "r_img = np.fft.fftshift(np.fft.fft2(img))"
   ]
  },
  {
   "cell_type": "code",
   "execution_count": 53,
   "metadata": {},
   "outputs": [],
   "source": [
    "re = shift(r_img,20,30)"
   ]
  },
  {
   "cell_type": "code",
   "execution_count": 58,
   "metadata": {},
   "outputs": [],
   "source": [
    "new_img = np.fft.ifft2(np.fft.ifftshift(re))\n",
    "re_new = np.abs(new_img)"
   ]
  },
  {
   "cell_type": "code",
   "execution_count": 63,
   "metadata": {},
   "outputs": [],
   "source": [
    "save_dir = open(\"./Picture/result_move.pgm\",\"wb\")\n",
    "writePGM(save_dir , len(re_new[0]) , len(re_new) , 255 , flatten(re_new))"
   ]
  },
  {
   "cell_type": "markdown",
   "metadata": {},
   "source": [
    "#1.3"
   ]
  },
  {
   "cell_type": "code",
   "execution_count": 51,
   "metadata": {},
   "outputs": [],
   "source": [
    "def rotate(img,theta):\n",
    "    radian = math.radians(theta)\n",
    "    bg_img = [[255]*(len(img)) for _ in range(len(img)) ]\n",
    "    matrix_totate = np.array([[math.cos(radian),-1*math.sin(radian)],[math.sin(radian),math.cos(radian)]])\n",
    "    l = len(img)\n",
    "    for i ,row in enumerate(img):\n",
    "        for j , _ in enumerate(row) :\n",
    "            check = np.array([i-(l/2) , j-(l/2)])\n",
    "            a , b =(check * matrix_totate).sum(axis=1) + (l/2)\n",
    "            if 0 <= a <= 255 and 0 <= b <= 255 :\n",
    "                bg_img[i][j] = img[int(a)][int(b)]\n",
    "    return bg_img"
   ]
  },
  {
   "cell_type": "code",
   "execution_count": 52,
   "metadata": {},
   "outputs": [],
   "source": [
    "rotated_img = rotate(img,30)"
   ]
  },
  {
   "cell_type": "code",
   "execution_count": 54,
   "metadata": {},
   "outputs": [],
   "source": [
    "r13_img = np.fft.fftshift(np.fft.fft2(rotated_img))"
   ]
  },
  {
   "cell_type": "code",
   "execution_count": 55,
   "metadata": {},
   "outputs": [],
   "source": [
    "amplitude13, phase13  = convert(r13_img)"
   ]
  },
  {
   "cell_type": "code",
   "execution_count": 58,
   "metadata": {},
   "outputs": [],
   "source": [
    "x,y , amp_norm = normal(amplitude13)"
   ]
  },
  {
   "cell_type": "code",
   "execution_count": 77,
   "metadata": {},
   "outputs": [],
   "source": [
    "phase_out13 = contrast_s(phase13)"
   ]
  },
  {
   "cell_type": "markdown",
   "metadata": {},
   "source": [
    "part save"
   ]
  },
  {
   "cell_type": "code",
   "execution_count": 83,
   "metadata": {},
   "outputs": [],
   "source": [
    "save_dir = open(\"./Picture/result_rotate.pgm\",\"wb\")\n",
    "writePGM(save_dir , len(rotated_img[0]) , len(rotated_img) , 255 , flatten(rotated_img))"
   ]
  },
  {
   "cell_type": "code",
   "execution_count": 80,
   "metadata": {},
   "outputs": [],
   "source": [
    "save_dir = open(\"./Picture/phase_rotate.pgm\",\"wb\")\n",
    "writePGM(save_dir , len(phase_out13[0]) , len(phase_out13) , 255 , flatten(phase_out13))"
   ]
  },
  {
   "cell_type": "code",
   "execution_count": 82,
   "metadata": {},
   "outputs": [],
   "source": [
    "save_dir = open(\"./Picture/amp_rotate.pgm\",\"wb\")\n",
    "writePGM(save_dir , len(amp_norm[0]) , len(amp_norm) , 255 , flatten(amp_norm))"
   ]
  },
  {
   "cell_type": "markdown",
   "metadata": {},
   "source": [
    "#1.4"
   ]
  },
  {
   "cell_type": "code",
   "execution_count": 69,
   "metadata": {},
   "outputs": [],
   "source": [
    "def down_sample(img,ratio):\n",
    "    new_size = np.round(len(img)*ratio,0).astype(int)\n",
    "    new_list = [[255]*new_size for _ in range(new_size)]\n",
    "    for i in range(new_size):\n",
    "        for j in range(new_size):\n",
    "            new_list[i][j] = img[int(i * (1/ratio))][int(j * (1/ratio))]\n",
    "    return new_list , new_size"
   ]
  },
  {
   "cell_type": "code",
   "execution_count": 72,
   "metadata": {},
   "outputs": [],
   "source": [
    "a_input = open(\".\\Picture\\Cross.pgm\",'rb')\n",
    "img_ori = read_pgm(a_input)\n",
    "a_input.close()"
   ]
  },
  {
   "cell_type": "code",
   "execution_count": 99,
   "metadata": {},
   "outputs": [],
   "source": [
    "resize_img , n= down_sample(img_ori,0.5)\n",
    "resize_img[0][0] = 255\n",
    "resize_img[0][1] = 255"
   ]
  },
  {
   "cell_type": "code",
   "execution_count": 102,
   "metadata": {},
   "outputs": [],
   "source": [
    "fft_re_img = np.fft.fftshift(np.fft.fft2(resize_img))"
   ]
  },
  {
   "cell_type": "code",
   "execution_count": 103,
   "metadata": {},
   "outputs": [],
   "source": [
    "amplitude14, phase14  = convert(fft_re_img)"
   ]
  },
  {
   "cell_type": "code",
   "execution_count": 104,
   "metadata": {},
   "outputs": [],
   "source": [
    "_ , _ , amp_norm14 = normal(amplitude14)"
   ]
  },
  {
   "cell_type": "code",
   "execution_count": 105,
   "metadata": {},
   "outputs": [],
   "source": [
    "phase_out14 = contrast_s(phase14)"
   ]
  },
  {
   "cell_type": "markdown",
   "metadata": {},
   "source": [
    "Part save"
   ]
  },
  {
   "cell_type": "code",
   "execution_count": 107,
   "metadata": {},
   "outputs": [],
   "source": [
    "save_dir = open(\"./Picture/result_resize.pgm\",\"wb\")\n",
    "writePGM(save_dir , len(resize_img[0]) , len(resize_img) , 255 , flatten(resize_img))"
   ]
  },
  {
   "cell_type": "code",
   "execution_count": 108,
   "metadata": {},
   "outputs": [],
   "source": [
    "save_dir = open(\"./Picture/phase_resize.pgm\",\"wb\")\n",
    "writePGM(save_dir , len(phase_out14[0]) , len(phase_out14) , 255 , flatten(phase_out14))"
   ]
  },
  {
   "cell_type": "code",
   "execution_count": 109,
   "metadata": {},
   "outputs": [],
   "source": [
    "save_dir = open(\"./Picture/amp_resize.pgm\",\"wb\")\n",
    "writePGM(save_dir , len(amp_norm14[0]) , len(amp_norm14) , 255 , flatten(amp_norm14))"
   ]
  },
  {
   "cell_type": "markdown",
   "metadata": {},
   "source": [
    "1.5"
   ]
  },
  {
   "cell_type": "markdown",
   "metadata": {},
   "source": [
    "1.5.1 non Phase"
   ]
  },
  {
   "cell_type": "code",
   "execution_count": 110,
   "metadata": {},
   "outputs": [],
   "source": [
    "new_img_nphase = np.fft.ifft2(np.fft.ifftshift(amplitude))\n",
    "re_new_nphase = np.abs(new_img_nphase)"
   ]
  },
  {
   "cell_type": "code",
   "execution_count": 112,
   "metadata": {},
   "outputs": [],
   "source": [
    "_ , _ , re_new_nphase_norm = normal(re_new_nphase)"
   ]
  },
  {
   "cell_type": "code",
   "execution_count": 129,
   "metadata": {},
   "outputs": [],
   "source": [
    "re_new_nphase_const = contrast_s(re_new_nphase)"
   ]
  },
  {
   "cell_type": "markdown",
   "metadata": {},
   "source": [
    "Part save"
   ]
  },
  {
   "cell_type": "code",
   "execution_count": 131,
   "metadata": {},
   "outputs": [],
   "source": [
    "save_dir = open(\"./Picture/result_invert_non_phase.pgm\",\"wb\")\n",
    "writePGM(save_dir , len(re_new_nphase_const[0]) , len(re_new_nphase_const) , 255 , flatten(re_new_nphase_const))"
   ]
  },
  {
   "cell_type": "markdown",
   "metadata": {},
   "source": [
    "1.5.2 non Amplitude"
   ]
  },
  {
   "cell_type": "code",
   "execution_count": 132,
   "metadata": {},
   "outputs": [],
   "source": [
    "new_img_namp = np.fft.ifft2(np.fft.ifftshift(phase))\n",
    "re_new_namp = np.abs(new_img_namp)"
   ]
  },
  {
   "cell_type": "code",
   "execution_count": 133,
   "metadata": {},
   "outputs": [],
   "source": [
    "re_new_namp_const = contrast_s(re_new_namp)"
   ]
  },
  {
   "cell_type": "markdown",
   "metadata": {},
   "source": [
    "Part save"
   ]
  },
  {
   "cell_type": "code",
   "execution_count": 135,
   "metadata": {},
   "outputs": [],
   "source": [
    "save_dir = open(\"./Picture/result_invert_non_amplitude.pgm\",\"wb\")\n",
    "writePGM(save_dir , len(re_new_namp_const[0]) , len(re_new_namp_const) , 255 , flatten(re_new_namp_const))"
   ]
  },
  {
   "cell_type": "markdown",
   "metadata": {},
   "source": [
    "1.6"
   ]
  },
  {
   "cell_type": "code",
   "execution_count": 177,
   "metadata": {},
   "outputs": [],
   "source": [
    "len_input = open(\".\\Picture\\Lenna.pgm\",'rb')\n",
    "lenna_img_ori = read_pgm(len_input)\n",
    "len_input.close()"
   ]
  },
  {
   "cell_type": "code",
   "execution_count": 178,
   "metadata": {},
   "outputs": [],
   "source": [
    "fft_img_lenna = np.fft.fftshift(np.fft.fft2(lenna_img_ori))\n",
    "amplitude_lenna , phase_lenna = convert(fft_img_lenna)"
   ]
  },
  {
   "cell_type": "code",
   "execution_count": 179,
   "metadata": {},
   "outputs": [
    {
     "data": {
      "text/plain": [
       "<matplotlib.image.AxesImage at 0x183edb3d520>"
      ]
     },
     "execution_count": 179,
     "metadata": {},
     "output_type": "execute_result"
    },
    {
     "data": {
      "image/png": "[encoded data removed]",
      "text/plain": [
       "<Figure size 432x288 with 1 Axes>"
      ]
     },
     "metadata": {
      "needs_background": "light"
     },
     "output_type": "display_data"
    }
   ],
   "source": [
    "import matplotlib.pyplot as plt\n",
    "\n",
    "plt.imshow(amplitude_lenna)"
   ]
  },
  {
   "cell_type": "markdown",
   "metadata": {},
   "source": [
    "1.6.1 non Phase"
   ]
  },
  {
   "cell_type": "code",
   "execution_count": 180,
   "metadata": {},
   "outputs": [],
   "source": [
    "lenna_img_nphase = np.fft.ifft2(np.fft.ifftshift(amplitude_lenna))\n",
    "lenna_new_nphase = np.abs(lenna_img_nphase)"
   ]
  },
  {
   "cell_type": "code",
   "execution_count": 181,
   "metadata": {},
   "outputs": [],
   "source": [
    "_ , _ , lenna_new_nphase_norm = normal(lenna_new_nphase)"
   ]
  },
  {
   "cell_type": "markdown",
   "metadata": {},
   "source": [
    "Part save"
   ]
  },
  {
   "cell_type": "code",
   "execution_count": 185,
   "metadata": {},
   "outputs": [],
   "source": [
    "save_dir = open(\"./Picture/result_invert_non_phase_lenna.pgm\",\"wb\")\n",
    "writePGM(save_dir , len(lenna_new_nphase_norm[0]) , len(lenna_new_nphase_norm) , 255 , flatten(lenna_new_nphase_norm))"
   ]
  },
  {
   "cell_type": "markdown",
   "metadata": {},
   "source": [
    "1.6.2 non Amplitude"
   ]
  },
  {
   "cell_type": "code",
   "execution_count": 161,
   "metadata": {},
   "outputs": [],
   "source": [
    "lenna_img_namp = np.fft.ifft2(np.fft.ifftshift(phase_lenna))\n",
    "lenna_new_namp = np.abs(lenna_img_namp)"
   ]
  },
  {
   "cell_type": "code",
   "execution_count": 162,
   "metadata": {},
   "outputs": [],
   "source": [
    "_ , _ , lenna_new_namp_norm = normal(lenna_new_namp)"
   ]
  },
  {
   "cell_type": "code",
   "execution_count": 164,
   "metadata": {},
   "outputs": [],
   "source": [
    "lenna_new_namp_const = contrast_s(lenna_new_namp)"
   ]
  },
  {
   "cell_type": "markdown",
   "metadata": {},
   "source": [
    "Part save"
   ]
  },
  {
   "cell_type": "code",
   "execution_count": 165,
   "metadata": {},
   "outputs": [],
   "source": [
    "save_dir = open(\"./Picture/result_invert_non_amplitude_lenna.pgm\",\"wb\")\n",
    "writePGM(save_dir , len(lenna_new_namp_const[0]) , len(lenna_new_namp_const) , 255 , flatten(lenna_new_namp_const))"
   ]
  },
  {
   "cell_type": "markdown",
   "metadata": {},
   "source": [
    "1.7"
   ]
  },
  {
   "cell_type": "code",
   "execution_count": 110,
   "metadata": {},
   "outputs": [],
   "source": [
    "chess_input = open(\".\\Picture\\Chess.pgm\",'rb')\n",
    "chess_img_ori = read_pgm(chess_input)\n",
    "chess_input.close()"
   ]
  },
  {
   "cell_type": "code",
   "execution_count": 99,
   "metadata": {},
   "outputs": [],
   "source": [
    "box_blur = [[1/9,1/9,1/9],[1/9,1/9,1/9],[1/9,1/9,1/9]]"
   ]
  },
  {
   "cell_type": "code",
   "execution_count": 67,
   "metadata": {},
   "outputs": [],
   "source": [
    "padding_center(chess_img_ori,2)"
   ]
  },
  {
   "cell_type": "code",
   "execution_count": 91,
   "metadata": {},
   "outputs": [],
   "source": [
    "padding_center(box_blur,255)"
   ]
  },
  {
   "cell_type": "code",
   "execution_count": 97,
   "metadata": {},
   "outputs": [],
   "source": [
    "new_box_blur = np.array(box_blur)"
   ]
  },
  {
   "cell_type": "code",
   "execution_count": 131,
   "metadata": {},
   "outputs": [],
   "source": [
    "new_box_blur_edited = np.delete(new_box_blur,0,1)\n",
    "new_box_blur_edited_2 = np.delete(new_box_blur_edited,0,0)"
   ]
  },
  {
   "cell_type": "code",
   "execution_count": 51,
   "metadata": {},
   "outputs": [],
   "source": [
    "def convolution(img,kernel):\n",
    "    n = len(img)\n",
    "    result_img = [[255]*n for _ in img]\n",
    "    for i in range(1,n-1):\n",
    "        for j in range(1,n-1):\n",
    "            temp = 0\n",
    "            temp += img[i][j] * kernel[1][1]\n",
    "            temp += img[i-1][j-1] * kernel[0][0]\n",
    "            temp += img[i-1][j] * kernel[0][1]\n",
    "            temp += img[i+1][j+1] * kernel[2][2]\n",
    "            temp += img[i][j-1] * kernel[1][0]\n",
    "            temp += img[i][j+1] * kernel[1][2]\n",
    "            temp += img[i+1][j-1] * kernel[2][0]\n",
    "            temp += img[i+1][j] * kernel[2][1]\n",
    "            temp += img[i+1][j+1] * kernel[2][2]\n",
    "            result_img[i][j] = int(temp)\n",
    "    return result_img\n"
   ]
  },
  {
   "cell_type": "code",
   "execution_count": 147,
   "metadata": {},
   "outputs": [],
   "source": [
    "def convolution_freq(img,kernel):\n",
    "    length = len(img)\n",
    "    return_img = [[255]*length for _ in img]\n",
    "    for i in range(length):\n",
    "        for j in range(length):\n",
    "            return_img[i][j] = fft_of_img[i][j] * kernel[i][j]\n",
    "    return return_img"
   ]
  },
  {
   "cell_type": "code",
   "execution_count": 69,
   "metadata": {},
   "outputs": [],
   "source": [
    "chess_box_blur = convolution(chess_img_ori,box_blur)"
   ]
  },
  {
   "cell_type": "code",
   "execution_count": 148,
   "metadata": {},
   "outputs": [],
   "source": [
    "fft_of_img = np.fft.fftshift(np.fft.fft2(chess_img_ori))\n",
    "fft_of_kernel = np.fft.fftshift(np.fft.fft2(new_box_blur_edited_2))\n",
    "chess_blur_freq_fft = convolution_freq(fft_of_img,fft_of_kernel)\n",
    "new_return_img = np.fft.ifft2(np.fft.ifftshift(chess_blur_freq_fft))\n",
    "chess_blur_freq = np.abs(new_return_img)"
   ]
  },
  {
   "cell_type": "code",
   "execution_count": 162,
   "metadata": {},
   "outputs": [],
   "source": [
    "chess_blur_freq_contrst = contrast_s(chess_blur_freq)"
   ]
  },
  {
   "cell_type": "markdown",
   "metadata": {},
   "source": [
    "Part save"
   ]
  },
  {
   "cell_type": "code",
   "execution_count": 54,
   "metadata": {},
   "outputs": [],
   "source": [
    "save_dir = open(\"./Picture/Chess_convolution_box_blur.pgm\",\"wb\")\n",
    "writePGM(save_dir , len(chess_box_blur[0]) , len(chess_box_blur) , 255 , flatten(chess_box_blur))"
   ]
  },
  {
   "cell_type": "code",
   "execution_count": 158,
   "metadata": {},
   "outputs": [],
   "source": [
    "save_dir = open(\"./Picture/Chess_convolution_box_blur_freq.pgm\",\"wb\")\n",
    "writePGM(save_dir , len(chess_blur_freq_contrst[0]) , len(chess_blur_freq_contrst) , 255 , flatten(chess_blur_freq_contrst))"
   ]
  },
  {
   "cell_type": "code",
   "execution_count": null,
   "metadata": {},
   "outputs": [],
   "source": []
  }
 ],
 "metadata": {
  "interpreter": {
   "hash": "dcacb0086e9a4f4eabd41c33bf4faac5ea0a3337ed3f5eff0680afa930572c04"
  },
  "kernelspec": {
   "display_name": "Python 3.9.8 64-bit",
   "language": "python",
   "name": "python3"
  },
  "language_info": {
   "codemirror_mode": {
    "name": "ipython",
    "version": 3
   },
   "file_extension": ".py",
   "mimetype": "text/x-python",
   "name": "python",
   "nbconvert_exporter": "python",
   "pygments_lexer": "ipython3",
   "version": "3.9.8"
  },
  "orig_nbformat": 4
 },
 "nbformat": 4,
 "nbformat_minor": 2
}
