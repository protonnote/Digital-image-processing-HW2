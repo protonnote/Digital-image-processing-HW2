{
 "cells": [
  {
   "cell_type": "markdown",
   "metadata": {},
   "source": [
    "#2.1"
   ]
  },
  {
   "cell_type": "code",
   "execution_count": 1,
   "metadata": {},
   "outputs": [],
   "source": [
    "import numpy as np"
   ]
  },
  {
   "cell_type": "code",
   "execution_count": 2,
   "metadata": {},
   "outputs": [],
   "source": [
    "def read_pgm(pgmf):\n",
    "    rs = pgmf.readline()\n",
    "    rd = pgmf.readline()\n",
    "    if str(rd).find('#') != -1 :\n",
    "        rd = pgmf.readline()\n",
    "    (width, height) = [int(i) for i in rd.split()]\n",
    "\n",
    "    raster = []\n",
    "    for y in range(height):\n",
    "        row = []\n",
    "        for x in range(width):\n",
    "            row.append(ord(pgmf.read(1)))\n",
    "        raster.append(row)\n",
    "    return raster"
   ]
  },
  {
   "cell_type": "code",
   "execution_count": 3,
   "metadata": {},
   "outputs": [],
   "source": [
    "def writePGM(file, w, h, max_grayscale, flatImg):\n",
    "    file.write('P5\\n'.encode())\n",
    "    file.write('{} {}\\n'.format(w, h).encode())\n",
    "    file.write('{}\\n'.format(max_grayscale).encode())\n",
    "    file.write(bytearray(flatImg))\n",
    "    file.close()"
   ]
  },
  {
   "cell_type": "code",
   "execution_count": 4,
   "metadata": {},
   "outputs": [],
   "source": [
    "def padding_center(img, pad):\n",
    "    pading = [255]*(pad//2)\n",
    "    l = len(img[0])\n",
    "    for row in img :\n",
    "        for zero in pading :\n",
    "            row.insert(0, zero)\n",
    "        row.extend(pading)\n",
    "    pading = [[255]*(l + 2 * (pad//2)) for _ in range(pad//2)]\n",
    "    for row in pading:\n",
    "        img.insert(0, row)\n",
    "    img.extend(pading)"
   ]
  },
  {
   "cell_type": "code",
   "execution_count": 5,
   "metadata": {},
   "outputs": [],
   "source": [
    "def contrast_s(li):\n",
    "    result = []\n",
    "    c = np.amin(li)\n",
    "    d = np.amax(li)\n",
    "    a = 0\n",
    "    b = 255\n",
    "    for i in range(len(li)):\n",
    "        row = []\n",
    "        for j in range(len(li[0])):\n",
    "            p = li[i][j]\n",
    "            p_out = (p - c)*((b - a)/(d - c)) + a\n",
    "            row.append(int(p_out))\n",
    "        result.append(row)\n",
    "    return result"
   ]
  },
  {
   "cell_type": "code",
   "execution_count": 6,
   "metadata": {},
   "outputs": [],
   "source": [
    "def flatten(arr):\n",
    "    return sum(arr, [])"
   ]
  },
  {
   "cell_type": "code",
   "execution_count": 7,
   "metadata": {},
   "outputs": [],
   "source": [
    "a = open(\"D:\\Project\\DIP\\HW2\\Picture\\Cross.pgm\",'rb')\n",
    "img = read_pgm(a)\n",
    "a.close()"
   ]
  },
  {
   "cell_type": "code",
   "execution_count": 8,
   "metadata": {},
   "outputs": [],
   "source": [
    "padding_center(img,56)\n",
    "img[28][28] = 255\n",
    "img[28][29] = 255\n",
    "img[28][30] = 255\n",
    "img[28][31] = 255"
   ]
  },
  {
   "cell_type": "code",
   "execution_count": 10,
   "metadata": {},
   "outputs": [],
   "source": [
    "def ideal_lowpass_filter(img,cutoff):\n",
    "    m = len(img)\n",
    "    n = len(img[0])\n",
    "    list_filter = [[255]*m for _ in range(n)]\n",
    "    for i in range(m):\n",
    "        for j in range(n):\n",
    "            d = float(np.sqrt(((float(j)-m/2.0)**2.0)+((float(i)-n/2)**2.0)))\n",
    "            if d <= float(cutoff):\n",
    "                list_filter[i][j] = 1.0\n",
    "            else :\n",
    "                list_filter[i][j] = 0.0\n",
    "    fft_img = np.fft.fftshift(np.fft.fft2(img))\n",
    "    return_list = fft_img * list_filter\n",
    "    invert = np.fft.ifft2(np.fft.ifftshift(return_list))\n",
    "    abs_invert = np.abs(invert)\n",
    "    return abs_invert"
   ]
  },
  {
   "cell_type": "code",
   "execution_count": 11,
   "metadata": {},
   "outputs": [],
   "source": [
    "def gaussian_lowpass_filter(img,cutoff):\n",
    "    m = len(img)\n",
    "    n = len(img[0])\n",
    "    list_filter = [[255]*m for _ in range(n)]\n",
    "    for i in range(m):\n",
    "        for j in range(n):\n",
    "            d = float(np.sqrt(((float(j)-m/2.0)**2.0)+((float(i)-n/2)**2.0)))\n",
    "            list_filter[i][j] = np.exp(-1*((d**2.0)/((2.0)*(cutoff**2.0))))\n",
    "    fft_img = np.fft.fftshift(np.fft.fft2(img))\n",
    "    return_list = fft_img * list_filter\n",
    "    invert = np.fft.ifft2(np.fft.ifftshift(return_list))\n",
    "    abs_invert = np.abs(invert)\n",
    "    return abs_invert"
   ]
  },
  {
   "cell_type": "code",
   "execution_count": 12,
   "metadata": {},
   "outputs": [],
   "source": [
    "ideal_20 = ideal_lowpass_filter(img,20)\n",
    "ideal_30 = ideal_lowpass_filter(img,30)\n",
    "ideal_50 = ideal_lowpass_filter(img,50)"
   ]
  },
  {
   "cell_type": "code",
   "execution_count": 13,
   "metadata": {},
   "outputs": [],
   "source": [
    "ideal_contrast_20 = contrast_s(ideal_20)\n",
    "ideal_contrast_30 = contrast_s(ideal_30)\n",
    "ideal_contrast_50 = contrast_s(ideal_50)"
   ]
  },
  {
   "cell_type": "code",
   "execution_count": 49,
   "metadata": {},
   "outputs": [],
   "source": [
    "gaussian_20 = gaussian_lowpass_filter(img,20)\n",
    "gaussian_30 = gaussian_lowpass_filter(img,30)\n",
    "gaussian_50 = gaussian_lowpass_filter(img,50)"
   ]
  },
  {
   "cell_type": "code",
   "execution_count": 50,
   "metadata": {},
   "outputs": [],
   "source": [
    "gaussian_contrast_20 = contrast_s(gaussian_20)\n",
    "gaussian_contrast_30 = contrast_s(gaussian_30)\n",
    "gaussian_contrast_50 = contrast_s(gaussian_50)"
   ]
  },
  {
   "cell_type": "markdown",
   "metadata": {},
   "source": [
    "Part save"
   ]
  },
  {
   "cell_type": "code",
   "execution_count": 40,
   "metadata": {},
   "outputs": [],
   "source": [
    "save_dir = open(\"./Picture/Cross_ideal_lowpass_20.pgm\",\"wb\")\n",
    "writePGM(save_dir , len(ideal_contrast_20[0]) , len(ideal_contrast_20) , 255 , flatten(ideal_contrast_20))"
   ]
  },
  {
   "cell_type": "code",
   "execution_count": 38,
   "metadata": {},
   "outputs": [],
   "source": [
    "save_dir = open(\"./Picture/Cross_ideal_lowpass_30.pgm\",\"wb\")\n",
    "writePGM(save_dir , len(ideal_contrast_30[0]) , len(ideal_contrast_30) , 255 , flatten(ideal_contrast_30))"
   ]
  },
  {
   "cell_type": "code",
   "execution_count": 39,
   "metadata": {},
   "outputs": [],
   "source": [
    "save_dir = open(\"./Picture/Cross_ideal_lowpass_50.pgm\",\"wb\")\n",
    "writePGM(save_dir , len(ideal_contrast_50[0]) , len(ideal_contrast_50) , 255 , flatten(ideal_contrast_50))"
   ]
  },
  {
   "cell_type": "code",
   "execution_count": 51,
   "metadata": {},
   "outputs": [],
   "source": [
    "save_dir = open(\"./Picture/Cross_Gaussian_lowpass_20.pgm\",\"wb\")\n",
    "writePGM(save_dir , len(gaussian_contrast_20[0]) , len(gaussian_contrast_20) , 255 , flatten(gaussian_contrast_20))"
   ]
  },
  {
   "cell_type": "code",
   "execution_count": 52,
   "metadata": {},
   "outputs": [],
   "source": [
    "save_dir = open(\"./Picture/Cross_Gaussian_lowpass_30.pgm\",\"wb\")\n",
    "writePGM(save_dir , len(gaussian_contrast_30[0]) , len(gaussian_contrast_30) , 255 , flatten(gaussian_contrast_30))"
   ]
  },
  {
   "cell_type": "code",
   "execution_count": 53,
   "metadata": {},
   "outputs": [],
   "source": [
    "save_dir = open(\"./Picture/Cross_Gaussian_lowpass_50.pgm\",\"wb\")\n",
    "writePGM(save_dir , len(gaussian_contrast_50[0]) , len(gaussian_contrast_50) , 255 , flatten(gaussian_contrast_50))"
   ]
  },
  {
   "cell_type": "markdown",
   "metadata": {},
   "source": [
    "#2.2"
   ]
  },
  {
   "cell_type": "code",
   "execution_count": 7,
   "metadata": {},
   "outputs": [],
   "source": [
    "def convolution(img,kernel):\n",
    "    n = len(img)\n",
    "    result_img = [[255]*n for _ in img]\n",
    "    for i in range(1,n-1):\n",
    "        for j in range(1,n-1):\n",
    "            temp = 0\n",
    "            temp += img[i][j] * kernel[1][1]\n",
    "            temp += img[i-1][j-1] * kernel[0][0]\n",
    "            temp += img[i-1][j] * kernel[0][1]\n",
    "            temp += img[i+1][j+1] * kernel[2][2]\n",
    "            temp += img[i][j-1] * kernel[1][0]\n",
    "            temp += img[i][j+1] * kernel[1][2]\n",
    "            temp += img[i+1][j-1] * kernel[2][0]\n",
    "            temp += img[i+1][j] * kernel[2][1]\n",
    "            temp += img[i+1][j+1] * kernel[2][2]\n",
    "            result_img[i][j] = int(temp)\n",
    "    return result_img"
   ]
  },
  {
   "cell_type": "code",
   "execution_count": 8,
   "metadata": {},
   "outputs": [],
   "source": [
    "def median_filter(img):\n",
    "    cp_img = img.copy()\n",
    "    padding_center(cp_img,2)\n",
    "    kernel = [[1/9, 1/9, 1/9],[1/9, 1/9, 1/9],[1/9, 1/9, 1/9]]\n",
    "    result = convolution(cp_img,kernel)\n",
    "    return result"
   ]
  },
  {
   "cell_type": "code",
   "execution_count": 9,
   "metadata": {},
   "outputs": [],
   "source": [
    "def RMS(ori_img,aff_img):\n",
    "    m = len(ori_img)\n",
    "    n = len(ori_img[0])\n",
    "    sigma = 0.0\n",
    "    for i in range(m):\n",
    "        for j in range(n):\n",
    "            sigma = sigma + ((ori_img[i][j]-aff_img[i][j])**2)\n",
    "    root = (sigma/(m*n))\n",
    "    sqrt = np.sqrt(root)\n",
    "    return sqrt"
   ]
  },
  {
   "cell_type": "code",
   "execution_count": 10,
   "metadata": {},
   "outputs": [],
   "source": [
    "l = open(\".\\Picture\\Lenna_noise.pgm\",'rb')\n",
    "lenna_noise_img = read_pgm(l)\n",
    "l.close()"
   ]
  },
  {
   "cell_type": "code",
   "execution_count": 129,
   "metadata": {},
   "outputs": [],
   "source": [
    "c = open(\".\\Picture\\Chess_noise.pgm\",'rb')\n",
    "chess_noise_img = read_pgm(c)\n",
    "c.close()"
   ]
  },
  {
   "cell_type": "markdown",
   "metadata": {},
   "source": [
    "Lenna"
   ]
  },
  {
   "cell_type": "code",
   "execution_count": 21,
   "metadata": {},
   "outputs": [],
   "source": [
    "lenna_ideal_20 = ideal_lowpass_filter(lenna_noise_img,20)\n",
    "lenna_ideal_30 = ideal_lowpass_filter(lenna_noise_img,30)\n",
    "lenna_ideal_50 = ideal_lowpass_filter(lenna_noise_img,50)"
   ]
  },
  {
   "cell_type": "code",
   "execution_count": 22,
   "metadata": {},
   "outputs": [],
   "source": [
    "lenna_ideal_contrast_20 = contrast_s(lenna_ideal_20)\n",
    "lenna_ideal_contrast_30 = contrast_s(lenna_ideal_30)\n",
    "lenna_ideal_contrast_50 = contrast_s(lenna_ideal_50)"
   ]
  },
  {
   "cell_type": "code",
   "execution_count": 54,
   "metadata": {},
   "outputs": [],
   "source": [
    "lenna_gaussian_20 = gaussian_lowpass_filter(lenna_noise_img,20)\n",
    "lenna_gaussian_30 = gaussian_lowpass_filter(lenna_noise_img,30)\n",
    "lenna_gaussian_50 = gaussian_lowpass_filter(lenna_noise_img,50)"
   ]
  },
  {
   "cell_type": "code",
   "execution_count": 55,
   "metadata": {},
   "outputs": [],
   "source": [
    "lenna_gaussian_contrast_20 = contrast_s(lenna_gaussian_20)\n",
    "lenna_gaussian_contrast_30 = contrast_s(lenna_gaussian_30)\n",
    "lenna_gaussian_contrast_50 = contrast_s(lenna_gaussian_50)"
   ]
  },
  {
   "cell_type": "code",
   "execution_count": 11,
   "metadata": {},
   "outputs": [],
   "source": [
    "lenna_median_filter_ = median_filter(lenna_noise_img)"
   ]
  },
  {
   "cell_type": "code",
   "execution_count": 12,
   "metadata": {},
   "outputs": [],
   "source": [
    "lenna_contrast = contrast_s(lenna_median_filter_)"
   ]
  },
  {
   "cell_type": "markdown",
   "metadata": {},
   "source": [
    "Chess"
   ]
  },
  {
   "cell_type": "code",
   "execution_count": 27,
   "metadata": {},
   "outputs": [],
   "source": [
    "chess_ideal_20 = ideal_lowpass_filter(chess_noise_img,20)\n",
    "chess_ideal_30 = ideal_lowpass_filter(chess_noise_img,30)\n",
    "chess_ideal_50 = ideal_lowpass_filter(chess_noise_img,50)"
   ]
  },
  {
   "cell_type": "code",
   "execution_count": 28,
   "metadata": {},
   "outputs": [],
   "source": [
    "chess_ideal_contrast_20 = contrast_s(chess_ideal_20)\n",
    "chess_ideal_contrast_30 = contrast_s(chess_ideal_30)\n",
    "chess_ideal_contrast_50 = contrast_s(chess_ideal_50)"
   ]
  },
  {
   "cell_type": "code",
   "execution_count": 56,
   "metadata": {},
   "outputs": [],
   "source": [
    "chess_gaussian_20 = gaussian_lowpass_filter(chess_noise_img,20)\n",
    "chess_gaussian_30 = gaussian_lowpass_filter(chess_noise_img,30)\n",
    "chess_gaussian_50 = gaussian_lowpass_filter(chess_noise_img,50)"
   ]
  },
  {
   "cell_type": "code",
   "execution_count": 57,
   "metadata": {},
   "outputs": [],
   "source": [
    "chess_gaussian_contrast_20 = contrast_s(chess_gaussian_20)\n",
    "chess_gaussian_contrast_30 = contrast_s(chess_gaussian_30)\n",
    "chess_gaussian_contrast_50 = contrast_s(chess_gaussian_50)"
   ]
  },
  {
   "cell_type": "code",
   "execution_count": 98,
   "metadata": {},
   "outputs": [],
   "source": [
    "chess_median_filter_non_pad = median_filter(chess_noise_img)"
   ]
  },
  {
   "cell_type": "code",
   "execution_count": 99,
   "metadata": {},
   "outputs": [],
   "source": [
    "chess_contrast = contrast_s(chess_median_filter_non_pad)"
   ]
  },
  {
   "cell_type": "markdown",
   "metadata": {},
   "source": [
    "Find RMS "
   ]
  },
  {
   "cell_type": "markdown",
   "metadata": {},
   "source": [
    "lenna"
   ]
  },
  {
   "cell_type": "code",
   "execution_count": 14,
   "metadata": {},
   "outputs": [],
   "source": [
    "l_ori = open(\".\\Picture\\Lenna.pgm\",'rb')\n",
    "l_noi = open(\".\\Picture\\Lenna_noise.pgm\",'rb')\n",
    "lenna_original = read_pgm(l_ori)\n",
    "lenna_noise = read_pgm(l_noi)\n",
    "l_ori.close()\n",
    "l_noi.close()\n"
   ]
  },
  {
   "cell_type": "code",
   "execution_count": 102,
   "metadata": {},
   "outputs": [
    {
     "name": "stdout",
     "output_type": "stream",
     "text": [
      "original : 0.0\n",
      "noise : 25.280217586981273\n",
      "ideal 20 : 17.61927403334903\n",
      "ideal 30 : 14.214403908538953\n",
      "ideal 50 : 12.700397107688488\n"
     ]
    }
   ],
   "source": [
    "print(\"original :\",RMS(lenna_original,lenna_original))\n",
    "print(\"noise :\",RMS(lenna_original,lenna_noise_img))\n",
    "print(\"ideal 20 :\",RMS(lenna_original,lenna_ideal_20))\n",
    "print(\"ideal 30 :\",RMS(lenna_original,lenna_ideal_30))\n",
    "print(\"ideal 50 :\",RMS(lenna_original,lenna_ideal_50))\n"
   ]
  },
  {
   "cell_type": "code",
   "execution_count": 92,
   "metadata": {},
   "outputs": [
    {
     "name": "stdout",
     "output_type": "stream",
     "text": [
      "original : 0.0\n",
      "noise : 25.280217586981273\n",
      "gaussian 20 : 14.475296833575943\n",
      "gaussian 30 : 11.945982237369638\n",
      "gaussian 50 : 11.22485552770879\n"
     ]
    }
   ],
   "source": [
    "print(\"original :\",RMS(lenna_original,lenna_original))\n",
    "print(\"noise :\",RMS(lenna_original,lenna_noise))\n",
    "print(\"gaussian 20 :\",RMS(lenna_original,lenna_gaussian_20))\n",
    "print(\"gaussian 30 :\",RMS(lenna_original,lenna_gaussian_30))\n",
    "print(\"gaussian 50 :\",RMS(lenna_original,lenna_gaussian_50))"
   ]
  },
  {
   "cell_type": "code",
   "execution_count": 15,
   "metadata": {},
   "outputs": [
    {
     "name": "stdout",
     "output_type": "stream",
     "text": [
      "original : 0.0\n",
      "noise : 25.280217586981273\n",
      "median : 21.271354447226233\n"
     ]
    }
   ],
   "source": [
    "print(\"original :\",RMS(lenna_original,lenna_original))\n",
    "print(\"noise :\",RMS(lenna_original,lenna_noise))\n",
    "print(\"median :\",RMS(lenna_original,lenna_median_filter_))"
   ]
  },
  {
   "cell_type": "markdown",
   "metadata": {},
   "source": [
    "chess"
   ]
  },
  {
   "cell_type": "code",
   "execution_count": 109,
   "metadata": {},
   "outputs": [],
   "source": [
    "c_ori = open(\".\\Picture\\Chess.pgm\",'rb')\n",
    "c_noi = open(\".\\Picture\\Chess_noise.pgm\",'rb')\n",
    "chess_original = read_pgm(c_ori)\n",
    "chess_noise = read_pgm(c_noi)\n",
    "c_ori.close()\n",
    "c_noi.close()"
   ]
  },
  {
   "cell_type": "code",
   "execution_count": 111,
   "metadata": {},
   "outputs": [
    {
     "name": "stdout",
     "output_type": "stream",
     "text": [
      "original : 0.0\n",
      "noise : 24.58393122921184\n",
      "ideal 20 : 26.14214275049343\n",
      "ideal 30 : 19.45855362928154\n",
      "ideal 50 : 16.8634050088865\n"
     ]
    }
   ],
   "source": [
    "print(\"original :\",RMS(chess_original,chess_original))\n",
    "print(\"noise :\",RMS(chess_original,chess_noise))\n",
    "print(\"ideal 20 :\",RMS(chess_original,chess_ideal_20))\n",
    "print(\"ideal 30 :\",RMS(chess_original,chess_ideal_30))\n",
    "print(\"ideal 50 :\",RMS(chess_original,chess_ideal_50))\n"
   ]
  },
  {
   "cell_type": "code",
   "execution_count": 112,
   "metadata": {},
   "outputs": [
    {
     "name": "stdout",
     "output_type": "stream",
     "text": [
      "original : 0.0\n",
      "noise : 24.58393122921184\n",
      "gaussian 20 : 20.73350018224493\n",
      "gaussian 30 : 17.034469925094776\n",
      "gaussian 50 : 14.096275506282188\n"
     ]
    }
   ],
   "source": [
    "print(\"original :\",RMS(chess_original,chess_original))\n",
    "print(\"noise :\",RMS(chess_original,chess_noise))\n",
    "print(\"gaussian 20 :\",RMS(chess_original,chess_gaussian_20))\n",
    "print(\"gaussian 30 :\",RMS(chess_original,chess_gaussian_30))\n",
    "print(\"gaussian 50 :\",RMS(chess_original,chess_gaussian_50))"
   ]
  },
  {
   "cell_type": "code",
   "execution_count": 114,
   "metadata": {},
   "outputs": [
    {
     "name": "stdout",
     "output_type": "stream",
     "text": [
      "original : 0.0\n",
      "noise : 24.58393122921184\n",
      "median : 23.66545750211011\n"
     ]
    }
   ],
   "source": [
    "print(\"original :\",RMS(chess_original,chess_original))\n",
    "print(\"noise :\",RMS(chess_original,chess_noise))\n",
    "print(\"median :\",RMS(chess_original,chess_median_filter_non_pad))"
   ]
  },
  {
   "cell_type": "markdown",
   "metadata": {},
   "source": [
    "Part save"
   ]
  },
  {
   "cell_type": "markdown",
   "metadata": {},
   "source": [
    "Lenna"
   ]
  },
  {
   "cell_type": "code",
   "execution_count": 91,
   "metadata": {},
   "outputs": [],
   "source": [
    "save_dir = open(\"./Picture/lenna_ideal_lowpass_20.pgm\",\"wb\")\n",
    "writePGM(save_dir , len(lenna_ideal_contrast_20[0]) , len(lenna_ideal_contrast_20) , 255 , flatten(lenna_ideal_contrast_20))"
   ]
  },
  {
   "cell_type": "code",
   "execution_count": 92,
   "metadata": {},
   "outputs": [],
   "source": [
    "save_dir = open(\"./Picture/lenna_ideal_lowpass_30.pgm\",\"wb\")\n",
    "writePGM(save_dir , len(lenna_ideal_contrast_30[0]) , len(lenna_ideal_contrast_30) , 255 , flatten(lenna_ideal_contrast_30))"
   ]
  },
  {
   "cell_type": "code",
   "execution_count": 93,
   "metadata": {},
   "outputs": [],
   "source": [
    "save_dir = open(\"./Picture/lenna_ideal_lowpass_50.pgm\",\"wb\")\n",
    "writePGM(save_dir , len(lenna_ideal_contrast_50[0]) , len(lenna_ideal_contrast_50) , 255 , flatten(lenna_ideal_contrast_50))"
   ]
  },
  {
   "cell_type": "code",
   "execution_count": 58,
   "metadata": {},
   "outputs": [],
   "source": [
    "save_dir = open(\"./Picture/lenna_Gaussian_lowpass_20.pgm\",\"wb\")\n",
    "writePGM(save_dir , len(lenna_gaussian_contrast_20[0]) , len(lenna_gaussian_contrast_20) , 255 , flatten(lenna_gaussian_contrast_20))"
   ]
  },
  {
   "cell_type": "code",
   "execution_count": 59,
   "metadata": {},
   "outputs": [],
   "source": [
    "save_dir = open(\"./Picture/lenna_Gaussian_lowpass_30.pgm\",\"wb\")\n",
    "writePGM(save_dir , len(lenna_gaussian_contrast_30[0]) , len(lenna_gaussian_contrast_30) , 255 , flatten(lenna_gaussian_contrast_30))"
   ]
  },
  {
   "cell_type": "code",
   "execution_count": 60,
   "metadata": {},
   "outputs": [],
   "source": [
    "save_dir = open(\"./Picture/lenna_Gaussian_lowpass_50.pgm\",\"wb\")\n",
    "writePGM(save_dir , len(lenna_gaussian_contrast_50[0]) , len(lenna_gaussian_contrast_50) , 255 , flatten(lenna_gaussian_contrast_50))"
   ]
  },
  {
   "cell_type": "code",
   "execution_count": 80,
   "metadata": {},
   "outputs": [],
   "source": [
    "save_dir = open(\"./Picture/lenna_median_lowpass.pgm\",\"wb\")\n",
    "writePGM(save_dir , len(lenna_contrast[0]) , len(lenna_contrast) , 255 , flatten(lenna_contrast))"
   ]
  },
  {
   "cell_type": "markdown",
   "metadata": {},
   "source": [
    "Chess"
   ]
  },
  {
   "cell_type": "code",
   "execution_count": 119,
   "metadata": {},
   "outputs": [],
   "source": [
    "save_dir = open(\"./Picture/chess_ideal_lowpass_20.pgm\",\"wb\")\n",
    "writePGM(save_dir , len(chess_ideal_contrast_20[0]) , len(chess_ideal_contrast_20) , 255 , flatten(chess_ideal_contrast_20))"
   ]
  },
  {
   "cell_type": "code",
   "execution_count": 120,
   "metadata": {},
   "outputs": [],
   "source": [
    "save_dir = open(\"./Picture/chess_ideal_lowpass_30.pgm\",\"wb\")\n",
    "writePGM(save_dir , len(chess_ideal_contrast_30[0]) , len(chess_ideal_contrast_30) , 255 , flatten(chess_ideal_contrast_30))"
   ]
  },
  {
   "cell_type": "code",
   "execution_count": 121,
   "metadata": {},
   "outputs": [],
   "source": [
    "save_dir = open(\"./Picture/chess_ideal_lowpass_50.pgm\",\"wb\")\n",
    "writePGM(save_dir , len(chess_ideal_contrast_50[0]) , len(chess_ideal_contrast_50) , 255 , flatten(chess_ideal_contrast_50))"
   ]
  },
  {
   "cell_type": "code",
   "execution_count": 61,
   "metadata": {},
   "outputs": [],
   "source": [
    "save_dir = open(\"./Picture/chess_Gaussian_lowpass_20.pgm\",\"wb\")\n",
    "writePGM(save_dir , len(chess_gaussian_contrast_20[0]) , len(chess_gaussian_contrast_20) , 255 , flatten(chess_gaussian_contrast_20))"
   ]
  },
  {
   "cell_type": "code",
   "execution_count": 62,
   "metadata": {},
   "outputs": [],
   "source": [
    "save_dir = open(\"./Picture/chess_Gaussian_lowpass_30.pgm\",\"wb\")\n",
    "writePGM(save_dir , len(chess_gaussian_contrast_30[0]) , len(chess_gaussian_contrast_30) , 255 , flatten(chess_gaussian_contrast_30))"
   ]
  },
  {
   "cell_type": "code",
   "execution_count": 63,
   "metadata": {},
   "outputs": [],
   "source": [
    "save_dir = open(\"./Picture/chess_Gaussian_lowpass_50.pgm\",\"wb\")\n",
    "writePGM(save_dir , len(chess_gaussian_contrast_50[0]) , len(chess_gaussian_contrast_50) , 255 , flatten(chess_gaussian_contrast_50))"
   ]
  },
  {
   "cell_type": "code",
   "execution_count": 100,
   "metadata": {},
   "outputs": [],
   "source": [
    "save_dir = open(\"./Picture/chess_median_lowpass.pgm\",\"wb\")\n",
    "writePGM(save_dir , len(chess_contrast[0]) , len(chess_contrast) , 255 , flatten(chess_contrast))"
   ]
  },
  {
   "cell_type": "code",
   "execution_count": null,
   "metadata": {},
   "outputs": [],
   "source": []
  }
 ],
 "metadata": {
  "interpreter": {
   "hash": "dcacb0086e9a4f4eabd41c33bf4faac5ea0a3337ed3f5eff0680afa930572c04"
  },
  "kernelspec": {
   "display_name": "Python 3.9.8 64-bit",
   "language": "python",
   "name": "python3"
  },
  "language_info": {
   "codemirror_mode": {
    "name": "ipython",
    "version": 3
   },
   "file_extension": ".py",
   "mimetype": "text/x-python",
   "name": "python",
   "nbconvert_exporter": "python",
   "pygments_lexer": "ipython3",
   "version": "3.9.8"
  },
  "orig_nbformat": 4
 },
 "nbformat": 4,
 "nbformat_minor": 2
}
